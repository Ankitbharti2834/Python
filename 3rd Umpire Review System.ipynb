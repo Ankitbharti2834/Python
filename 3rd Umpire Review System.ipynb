{
 "cells": [
  {
   "cell_type": "code",
   "execution_count": 2,
   "id": "e8dc8550",
   "metadata": {
    "collapsed": true
   },
   "outputs": [
    {
     "name": "stdout",
     "output_type": "stream",
     "text": [
      "Requirement already satisfied: tk in c:\\anaconda\\lib\\site-packages (0.1.0)\n",
      "Note: you may need to restart the kernel to use updated packages.\n"
     ]
    }
   ],
   "source": [
    "pip install tk"
   ]
  },
  {
   "cell_type": "code",
   "execution_count": 3,
   "id": "71776005",
   "metadata": {
    "collapsed": true
   },
   "outputs": [
    {
     "name": "stdout",
     "output_type": "stream",
     "text": [
      "Requirement already satisfied: opencv-python in c:\\anaconda\\lib\\site-packages (4.5.3.56)\n",
      "Requirement already satisfied: numpy>=1.17.3 in c:\\anaconda\\lib\\site-packages (from opencv-python) (1.21.2)\n",
      "Note: you may need to restart the kernel to use updated packages.\n"
     ]
    }
   ],
   "source": [
    "pip install opencv-python"
   ]
  },
  {
   "cell_type": "code",
   "execution_count": 4,
   "id": "1a81b36f",
   "metadata": {
    "collapsed": true
   },
   "outputs": [
    {
     "name": "stdout",
     "output_type": "stream",
     "text": [
      "Requirement already satisfied: pyimage in c:\\anaconda\\lib\\site-packages (0.1.1)\n",
      "Requirement already satisfied: scikit-image in c:\\anaconda\\lib\\site-packages (from pyimage) (0.18.1)\n",
      "Requirement already satisfied: matplotlib in c:\\anaconda\\lib\\site-packages (from pyimage) (3.4.3)\n",
      "Note: you may need to restart the kernel to use updated packages.Requirement already satisfied: numpy in c:\\anaconda\\lib\\site-packages (from pyimage) (1.21.2)\n",
      "Requirement already satisfied: python-dateutil>=2.7 in c:\\anaconda\\lib\\site-packages (from matplotlib->pyimage) (2.8.1)\n",
      "\n",
      "Requirement already satisfied: cycler>=0.10 in c:\\anaconda\\lib\\site-packages (from matplotlib->pyimage) (0.10.0)\n",
      "Requirement already satisfied: pyparsing>=2.2.1 in c:\\anaconda\\lib\\site-packages (from matplotlib->pyimage) (2.4.7)\n",
      "Requirement already satisfied: pillow>=6.2.0 in c:\\anaconda\\lib\\site-packages (from matplotlib->pyimage) (8.2.0)\n",
      "Requirement already satisfied: kiwisolver>=1.0.1 in c:\\anaconda\\lib\\site-packages (from matplotlib->pyimage) (1.3.1)\n",
      "Requirement already satisfied: six in c:\\anaconda\\lib\\site-packages (from cycler>=0.10->matplotlib->pyimage) (1.15.0)\n",
      "Requirement already satisfied: scipy>=1.0.1 in c:\\anaconda\\lib\\site-packages (from scikit-image->pyimage) (1.7.1)\n",
      "Requirement already satisfied: networkx>=2.0 in c:\\anaconda\\lib\\site-packages (from scikit-image->pyimage) (2.5)\n",
      "Requirement already satisfied: imageio>=2.3.0 in c:\\anaconda\\lib\\site-packages (from scikit-image->pyimage) (2.9.0)\n",
      "Requirement already satisfied: tifffile>=2019.7.26 in c:\\anaconda\\lib\\site-packages (from scikit-image->pyimage) (2021.4.8)\n",
      "Requirement already satisfied: PyWavelets>=1.1.1 in c:\\anaconda\\lib\\site-packages (from scikit-image->pyimage) (1.1.1)\n",
      "Requirement already satisfied: decorator>=4.3.0 in c:\\anaconda\\lib\\site-packages (from networkx>=2.0->scikit-image->pyimage) (5.0.6)\n"
     ]
    }
   ],
   "source": [
    "pip install pyimage"
   ]
  },
  {
   "cell_type": "code",
   "execution_count": 5,
   "id": "9f89ca3c",
   "metadata": {
    "collapsed": true
   },
   "outputs": [
    {
     "name": "stdout",
     "output_type": "stream",
     "text": [
      "Requirement already satisfied: pillow in c:\\anaconda\\lib\\site-packages (8.2.0)\n",
      "Note: you may need to restart the kernel to use updated packages.\n"
     ]
    }
   ],
   "source": [
    "pip install pillow"
   ]
  },
  {
   "cell_type": "code",
   "execution_count": 6,
   "id": "d0c8fcd5",
   "metadata": {},
   "outputs": [],
   "source": [
    "from tkinter import *\n",
    "import PIL.Image, PIL.ImageTk\n",
    "import cv2"
   ]
  },
  {
   "cell_type": "code",
   "execution_count": 7,
   "id": "ce291bf0",
   "metadata": {},
   "outputs": [],
   "source": [
    "from functools import partial"
   ]
  },
  {
   "cell_type": "code",
   "execution_count": 8,
   "id": "8b0d37c4",
   "metadata": {
    "collapsed": true
   },
   "outputs": [
    {
     "name": "stdout",
     "output_type": "stream",
     "text": [
      "Requirement already satisfied: threaded in c:\\anaconda\\lib\\site-packages (4.1.0)\n",
      "Note: you may need to restart the kernel to use updated packages.\n"
     ]
    }
   ],
   "source": [
    "pip install threaded"
   ]
  },
  {
   "cell_type": "code",
   "execution_count": 9,
   "id": "16322d21",
   "metadata": {},
   "outputs": [],
   "source": [
    "import tkinter"
   ]
  },
  {
   "cell_type": "code",
   "execution_count": 10,
   "id": "11b6320f",
   "metadata": {},
   "outputs": [],
   "source": [
    "import threading "
   ]
  },
  {
   "cell_type": "code",
   "execution_count": 11,
   "id": "a4573199",
   "metadata": {},
   "outputs": [],
   "source": [
    "import imutils\n",
    "import time"
   ]
  },
  {
   "cell_type": "raw",
   "id": "86f0dbe0",
   "metadata": {},
   "source": [
    "# Width and Height of our main screen....\n",
    "Set_width= 750       \n",
    "Set_height= 405\n",
    "\n",
    "stream= cv2.VideoCapture(\"Clip.mp4\")\n",
    "# Play function...\n",
    "def play(speed):\n",
    "    print(f\"You Clicked on Play Speed is {speed}\")\n",
    "    \n",
    "    # Reverse mode\n",
    "    frame1= stream.get(cv2.CAP_PROP_POS_FRAMES)\n",
    "    stream.set(cv2.CAP_PROP_POS_FRAMES, frame1 + speed)\n",
    "    grabbed,frame = stream.read()\n",
    "    print(\"Done successful\",frame1)\n",
    "    \n",
    "    frame= imutils.resize(frame, width= Set_width, height= Set_height)\n",
    "    frame= PIL.ImageTk.PhotoImage(image= PIL.Image.fromarray(frame))\n",
    "    canvas.image= frame\n",
    "    canvas.create_image(0,0, image=frame, anchor= tkinter.NW)\n",
    "    \n",
    "\n",
    "    # pending function...\n",
    "def pending(decision):\n",
    "    # Display decision pending image\n",
    "    frame=cv2.cvtColor(cv2.imread(\"Decision Pending.jpg\"), cv2.COLOR_BGR2RGB)\n",
    "    frame=imutils.resize(frame, width= Set_width, height= Set_height)\n",
    "    frame= PIL.ImageTk.PhotoImage(image= PIL.Image.fromarray(frame))\n",
    "    canvas.image= frame\n",
    "    canvas.create_image(0, 0, image= frame, anchor= tkinter.NW)\n",
    "    # Wait for 2 second\n",
    "    time.sleep(2)\n",
    "    # Display sponsor image\n",
    "    frame=cv2.cvtColor(cv2.imread(\"Sponsor.jpg\"), cv2.COLOR_BGR2RGB)\n",
    "    frame=imutils.resize(frame, width= Set_width, height= Set_height)\n",
    "    frame= PIL.ImageTk.PhotoImage(image= PIL.Image.fromarray(frame))\n",
    "    canvas.image=frame\n",
    "    canvas.create_image(0,0, image=frame, anchor=tkinter.NW)\n",
    "    # Wait for 2 second\n",
    "    time.sleep(2)\n",
    "    \n",
    "    # Display out/not out image\n",
    "    if decision=='not_out':\n",
    "        a=\"Not Out.png\"\n",
    "        decisionImg= a\n",
    "    else:\n",
    "        decisionImg= \"Out.png\"\n",
    "        \n",
    "    frame=cv2.cvtColor(cv2.imread(decisionImg), cv2.COLOR_BGR2RGB)\n",
    "    frame=imutils.resize(frame, width= Set_width, height= Set_height)\n",
    "    frame= PIL.ImageTk.PhotoImage(image=PIL.Image.fromarray(frame))\n",
    "    canvas.image=frame\n",
    "    canvas.create_image(0, 0, image=frame, anchor= tkinter.NW)\n",
    "    # Wait for 2 second\n",
    "    time.sleep(2)\n",
    "\n",
    "# Out function....\n",
    "def out():\n",
    "    thread= threading.Thread(target=pending, args=(\"out\",))\n",
    "    thread.daemon=1\n",
    "    thread.start()\n",
    "    print(\"It's Out\")\n",
    "    \n",
    "# Not out function...\n",
    "def not_out():\n",
    "    thread= threading.Thread(target=pending, args=(\"not_out\",))\n",
    "    thread.daemon=1\n",
    "    thread.start()\n",
    "    print(\"It's Not Out\")\n",
    "    \n",
    "\n",
    "# GUI tkinter...\n",
    "window= tkinter.Tk()\n",
    "window.title(\" Third Umpire Decision Review\")\n",
    "cv_img=cv2.cvtColor(cv2.imread(\"TUDRS.png \"), cv2.COLOR_BGR2RGB)\n",
    "cv2.imwrite(\"TUDRS.png\",cv_img)\n",
    "canvas= tkinter.Canvas(window, width= Set_width, height= Set_height)\n",
    "photo = PIL.ImageTk.PhotoImage(image= PIL.Image.fromarray(cv_img))\n",
    "image_on_canvas = canvas.create_image(0, 0, anchor= tkinter.NW, image= photo)\n",
    "canvas.pack()\n",
    "\n",
    "\n",
    "# Playback Buttons\n",
    "button= tkinter.Button(window, text=\"<< Previous (fast)\",width=50,command=partial(play,-25))\n",
    "button.pack()\n",
    "button= tkinter.Button(window, text=\"<  Previous (slow)\",width=50, command=partial(play, -2))\n",
    "button.pack()\n",
    "button= tkinter.Button(window, text=\" Forward (fast) >>\", width=50, command=partial(play, 25))\n",
    "button.pack()\n",
    "button= tkinter.Button(window, text=\" Forward (slow)  >\", width=50, command=partial(play, 2))\n",
    "button.pack()\n",
    "button=tkinter.Button(window, text=\" Out\",width=50,command=out)\n",
    "button.pack()\n",
    "button= tkinter.Button(window,text=\" Not Out\", width=50, command= not_out)\n",
    "button.pack()\n",
    "\n",
    "\n",
    "window.mainloop()"
   ]
  },
  {
   "cell_type": "code",
   "execution_count": null,
   "id": "ef4490f1",
   "metadata": {},
   "outputs": [],
   "source": []
  }
 ],
 "metadata": {
  "kernelspec": {
   "display_name": "Python 3",
   "language": "python",
   "name": "python3"
  },
  "language_info": {
   "codemirror_mode": {
    "name": "ipython",
    "version": 3
   },
   "file_extension": ".py",
   "mimetype": "text/x-python",
   "name": "python",
   "nbconvert_exporter": "python",
   "pygments_lexer": "ipython3",
   "version": "3.8.8"
  }
 },
 "nbformat": 4,
 "nbformat_minor": 5
}
