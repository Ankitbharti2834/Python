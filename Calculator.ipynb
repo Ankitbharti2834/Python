{
 "cells": [
  {
   "cell_type": "code",
   "execution_count": 1,
   "id": "fb315a54",
   "metadata": {},
   "outputs": [],
   "source": [
    "# Import Everything from tkinter"
   ]
  },
  {
   "cell_type": "code",
   "execution_count": 2,
   "id": "1fe3a175",
   "metadata": {},
   "outputs": [],
   "source": [
    "from tkinter import *"
   ]
  },
  {
   "cell_type": "code",
   "execution_count": 3,
   "id": "3557e7d1",
   "metadata": {},
   "outputs": [],
   "source": [
    "expression=\" \""
   ]
  },
  {
   "cell_type": "code",
   "execution_count": 4,
   "id": "7a526b3c",
   "metadata": {},
   "outputs": [],
   "source": [
    "def press(num):\n",
    "    global expression\n",
    "    expression=expression + str(num)\n",
    "    equation.set(expression)"
   ]
  },
  {
   "cell_type": "code",
   "execution_count": 5,
   "id": "11d34fd1",
   "metadata": {},
   "outputs": [],
   "source": [
    "def equalpress():\n",
    "    try:\n",
    "        global expression\n",
    "        total=str(eval(expression))\n",
    "        equation.set(total)\n",
    "        expression=\" \"\n",
    "    except:\n",
    "        equation.set(\"error\")\n",
    "        expression=\" \""
   ]
  },
  {
   "cell_type": "code",
   "execution_count": 6,
   "id": "70b97a12",
   "metadata": {},
   "outputs": [],
   "source": [
    "def clear():\n",
    "    global expression\n",
    "    expression=\" \"\n",
    "    equation.set(\"\")"
   ]
  },
  {
   "cell_type": "code",
   "execution_count": 7,
   "id": "ed4fc5a8",
   "metadata": {},
   "outputs": [],
   "source": [
    "if __name__ == \"__main__\":\n",
    "    gui= Tk()\n",
    "    gui.configure(background='light green')\n",
    "    gui.title(\"Simple Calculator\")\n",
    "    gui.geometry(\"270x150\")\n",
    "    equation= StringVar()\n",
    "    expression_field=Entry(gui, textvariable=equation)\n",
    "    expression_field.grid(columnspan=4, ipadx=70)\n",
    "    button1= Button(gui,text=\"1\",fg='black',bg='yellow',command=lambda: press(1),\n",
    "                    height=1, width=7)\n",
    "    button1.grid(row=2,column=0)\n",
    "    button2= Button(gui,text='2',fg='black',bg='yellow',command=lambda: press(2),\n",
    "                    height=1,width=7)\n",
    "    button2.grid(row=2,column=1)\n",
    "    button3= Button(gui,text=\"3\",fg='black',bg='yellow',command=lambda: press(3),\n",
    "                   height=1, width=7)\n",
    "    button3.grid(row=2,column=2)\n",
    "    button4=Button(gui,text=\"4\",fg='black',bg='yellow',command=lambda: press(4),\n",
    "                  height=1,width=7)\n",
    "    button4.grid(row=3,column=0)\n",
    "    button5=Button(gui,text='5',fg='black',bg='yellow',command=lambda: press(5),\n",
    "                  height=1,width=7)\n",
    "    button5.grid(row=3,column=1)\n",
    "    button6=Button(gui,text='6',fg='black',bg='yellow',command=lambda: press(6),\n",
    "                  height=1,width=7)\n",
    "    button6.grid(row=3,column=2)\n",
    "    button7=Button(gui,text='7',fg='black',bg='yellow',command=lambda: press(7),\n",
    "                  height=1,width=7)\n",
    "    button7.grid(row=4,column=0)\n",
    "    button8=Button(gui,text='8',fg='black',bg='yellow',command=lambda: press(8),\n",
    "                  height=1,width=7)\n",
    "    button8.grid(row=4,column=1)\n",
    "    button9=Button(gui,text='9',fg='black',bg='yellow',command=lambda: press(9),\n",
    "                  height=1,width=7)\n",
    "    button9.grid(row=4,column=2)\n",
    "    button0=Button(gui,text='0',fg='black',bg='yellow',command=lambda: press(0),\n",
    "                  height=1,width=7)\n",
    "    button0.grid(row=5,column=0)\n",
    "    plus= Button(gui,text=\"+\",fg='black',bg='yellow',command=lambda: press(\"+\"),\n",
    "                height=1,width=7)\n",
    "    plus.grid(row=2,column=3)    \n",
    "    equal=Button(gui,text=\"=\",fg='black',bg='yellow',command=equalpress,\n",
    "                height=1,width=7)\n",
    "    equal.grid(row=5,column=2)\n",
    "    minus=Button(gui,text='-',fg='black',bg='yellow',command=lambda: press(\"-\"),\n",
    "                height=1,width=7)\n",
    "    minus.grid(row=3,column=3)\n",
    "    divide=Button(gui,text='/',fg='black',bg='yellow',command=lambda: press(\"/\"),\n",
    "                 height=1,width=7)\n",
    "    divide.grid(row=5,column=3)\n",
    "    multiply=Button(gui,text='*',fg='black',bg='yellow',command=lambda: press(\"/\"),\n",
    "                   height=1,width=7)\n",
    "    multiply.grid(row=4,column=3)\n",
    "    clear=Button(gui,text='clear',fg='black',bg='yellow',command=clear,\n",
    "                height=1,width=7)\n",
    "    clear.grid(row=5,column=1)\n",
    "    Decimal=Button(gui,text='.',fg='black',bg='yellow',command=lambda: press(\".\"),\n",
    "                  height=1,width=7)\n",
    "    Decimal.grid(row=6,column=0)\n",
    "gui.mainloop()"
   ]
  },
  {
   "cell_type": "code",
   "execution_count": null,
   "id": "19e18357",
   "metadata": {},
   "outputs": [],
   "source": []
  },
  {
   "cell_type": "code",
   "execution_count": null,
   "id": "233b16e5",
   "metadata": {},
   "outputs": [],
   "source": []
  }
 ],
 "metadata": {
  "kernelspec": {
   "display_name": "Python 3",
   "language": "python",
   "name": "python3"
  },
  "language_info": {
   "codemirror_mode": {
    "name": "ipython",
    "version": 3
   },
   "file_extension": ".py",
   "mimetype": "text/x-python",
   "name": "python",
   "nbconvert_exporter": "python",
   "pygments_lexer": "ipython3",
   "version": "3.8.8"
  }
 },
 "nbformat": 4,
 "nbformat_minor": 5
}
